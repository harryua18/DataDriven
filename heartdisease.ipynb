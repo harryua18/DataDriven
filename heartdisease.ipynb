{
 "cells": [
  {
   "cell_type": "code",
   "execution_count": 81,
   "metadata": {},
   "outputs": [],
   "source": [
    "import pandas as pd\n",
    "import numpy as np\n",
    "import matplotlib as mplib\n",
    "import matplotlib.pyplot as plt\n",
    "from pandas.tools import plotting\n",
    "import seaborn as sns\n",
    "import scipy\n"
   ]
  },
  {
   "cell_type": "code",
   "execution_count": 28,
   "metadata": {},
   "outputs": [
    {
     "data": {
      "text/html": [
       "<div>\n",
       "<style scoped>\n",
       "    .dataframe tbody tr th:only-of-type {\n",
       "        vertical-align: middle;\n",
       "    }\n",
       "\n",
       "    .dataframe tbody tr th {\n",
       "        vertical-align: top;\n",
       "    }\n",
       "\n",
       "    .dataframe thead th {\n",
       "        text-align: right;\n",
       "    }\n",
       "</style>\n",
       "<table border=\"1\" class=\"dataframe\">\n",
       "  <thead>\n",
       "    <tr style=\"text-align: right;\">\n",
       "      <th></th>\n",
       "      <th>slope_of_peak_exercise_st_segment</th>\n",
       "      <th>thal</th>\n",
       "      <th>resting_blood_pressure</th>\n",
       "      <th>chest_pain_type</th>\n",
       "      <th>num_major_vessels</th>\n",
       "      <th>fasting_blood_sugar_gt_120_mg_per_dl</th>\n",
       "      <th>resting_ekg_results</th>\n",
       "      <th>serum_cholesterol_mg_per_dl</th>\n",
       "      <th>oldpeak_eq_st_depression</th>\n",
       "      <th>sex</th>\n",
       "      <th>age</th>\n",
       "      <th>max_heart_rate_achieved</th>\n",
       "      <th>exercise_induced_angina</th>\n",
       "      <th>heart_disease_present</th>\n",
       "    </tr>\n",
       "    <tr>\n",
       "      <th>patient_id</th>\n",
       "      <th></th>\n",
       "      <th></th>\n",
       "      <th></th>\n",
       "      <th></th>\n",
       "      <th></th>\n",
       "      <th></th>\n",
       "      <th></th>\n",
       "      <th></th>\n",
       "      <th></th>\n",
       "      <th></th>\n",
       "      <th></th>\n",
       "      <th></th>\n",
       "      <th></th>\n",
       "      <th></th>\n",
       "    </tr>\n",
       "  </thead>\n",
       "  <tbody>\n",
       "    <tr>\n",
       "      <th>0z64un</th>\n",
       "      <td>1</td>\n",
       "      <td>0</td>\n",
       "      <td>128</td>\n",
       "      <td>2</td>\n",
       "      <td>0</td>\n",
       "      <td>0</td>\n",
       "      <td>2</td>\n",
       "      <td>308</td>\n",
       "      <td>0.0</td>\n",
       "      <td>1</td>\n",
       "      <td>45</td>\n",
       "      <td>170</td>\n",
       "      <td>0</td>\n",
       "      <td>0</td>\n",
       "    </tr>\n",
       "    <tr>\n",
       "      <th>ryoo3j</th>\n",
       "      <td>2</td>\n",
       "      <td>0</td>\n",
       "      <td>110</td>\n",
       "      <td>3</td>\n",
       "      <td>0</td>\n",
       "      <td>0</td>\n",
       "      <td>0</td>\n",
       "      <td>214</td>\n",
       "      <td>1.6</td>\n",
       "      <td>0</td>\n",
       "      <td>54</td>\n",
       "      <td>158</td>\n",
       "      <td>0</td>\n",
       "      <td>0</td>\n",
       "    </tr>\n",
       "    <tr>\n",
       "      <th>yt1s1x</th>\n",
       "      <td>1</td>\n",
       "      <td>0</td>\n",
       "      <td>125</td>\n",
       "      <td>4</td>\n",
       "      <td>3</td>\n",
       "      <td>0</td>\n",
       "      <td>2</td>\n",
       "      <td>304</td>\n",
       "      <td>0.0</td>\n",
       "      <td>1</td>\n",
       "      <td>77</td>\n",
       "      <td>162</td>\n",
       "      <td>1</td>\n",
       "      <td>1</td>\n",
       "    </tr>\n",
       "    <tr>\n",
       "      <th>l2xjde</th>\n",
       "      <td>1</td>\n",
       "      <td>1</td>\n",
       "      <td>152</td>\n",
       "      <td>4</td>\n",
       "      <td>0</td>\n",
       "      <td>0</td>\n",
       "      <td>0</td>\n",
       "      <td>223</td>\n",
       "      <td>0.0</td>\n",
       "      <td>1</td>\n",
       "      <td>40</td>\n",
       "      <td>181</td>\n",
       "      <td>0</td>\n",
       "      <td>1</td>\n",
       "    </tr>\n",
       "    <tr>\n",
       "      <th>oyt4ek</th>\n",
       "      <td>3</td>\n",
       "      <td>1</td>\n",
       "      <td>178</td>\n",
       "      <td>1</td>\n",
       "      <td>0</td>\n",
       "      <td>0</td>\n",
       "      <td>2</td>\n",
       "      <td>270</td>\n",
       "      <td>4.2</td>\n",
       "      <td>1</td>\n",
       "      <td>59</td>\n",
       "      <td>145</td>\n",
       "      <td>0</td>\n",
       "      <td>0</td>\n",
       "    </tr>\n",
       "  </tbody>\n",
       "</table>\n",
       "</div>"
      ],
      "text/plain": [
       "            slope_of_peak_exercise_st_segment  thal  resting_blood_pressure  \\\n",
       "patient_id                                                                    \n",
       "0z64un                                      1     0                     128   \n",
       "ryoo3j                                      2     0                     110   \n",
       "yt1s1x                                      1     0                     125   \n",
       "l2xjde                                      1     1                     152   \n",
       "oyt4ek                                      3     1                     178   \n",
       "\n",
       "            chest_pain_type  num_major_vessels  \\\n",
       "patient_id                                       \n",
       "0z64un                    2                  0   \n",
       "ryoo3j                    3                  0   \n",
       "yt1s1x                    4                  3   \n",
       "l2xjde                    4                  0   \n",
       "oyt4ek                    1                  0   \n",
       "\n",
       "            fasting_blood_sugar_gt_120_mg_per_dl  resting_ekg_results  \\\n",
       "patient_id                                                              \n",
       "0z64un                                         0                    2   \n",
       "ryoo3j                                         0                    0   \n",
       "yt1s1x                                         0                    2   \n",
       "l2xjde                                         0                    0   \n",
       "oyt4ek                                         0                    2   \n",
       "\n",
       "            serum_cholesterol_mg_per_dl  oldpeak_eq_st_depression  sex  age  \\\n",
       "patient_id                                                                    \n",
       "0z64un                              308                       0.0    1   45   \n",
       "ryoo3j                              214                       1.6    0   54   \n",
       "yt1s1x                              304                       0.0    1   77   \n",
       "l2xjde                              223                       0.0    1   40   \n",
       "oyt4ek                              270                       4.2    1   59   \n",
       "\n",
       "            max_heart_rate_achieved  exercise_induced_angina  \\\n",
       "patient_id                                                     \n",
       "0z64un                          170                        0   \n",
       "ryoo3j                          158                        0   \n",
       "yt1s1x                          162                        1   \n",
       "l2xjde                          181                        0   \n",
       "oyt4ek                          145                        0   \n",
       "\n",
       "            heart_disease_present  \n",
       "patient_id                         \n",
       "0z64un                          0  \n",
       "ryoo3j                          0  \n",
       "yt1s1x                          1  \n",
       "l2xjde                          1  \n",
       "oyt4ek                          0  "
      ]
     },
     "execution_count": 28,
     "metadata": {},
     "output_type": "execute_result"
    }
   ],
   "source": [
    "df_train_values= pd.read_csv(r'G:\\My Drive\\Graduate life at UA\\Other\\DataDriven\\HeartDisease\\data\\train_values.csv')\n",
    "df_train_labels= pd.read_csv(r'G:\\My Drive\\Graduate life at UA\\Other\\DataDriven\\HeartDisease\\data\\train_labels.csv')\n",
    "\n",
    "## Converting 'thal' variable from categorical data to numeric (int) datatype\n",
    "thal=df_train_values.thal\n",
    "# df_train_values.thal(df_train_values.thal== 'normal')=0\n",
    "# df_train_values.thal(df_train_values.thal== 'reversible_defect')= 1\n",
    "# df_train_values.thal(df_train_values.thal== 'fixed_defect')= -1\n",
    "\n",
    "df_train_values.thal=(thal== 'reversible_defect').astype(int)-(thal== 'fixed_defect').astype(int) # This takes care of what I would do in the above 3 lines in MATLAB\n",
    "# print(df_train_values.thal, thal)\n",
    "df_train_all=df_train_values.set_index('patient_id').join(df_train_labels.set_index('patient_id'))\n",
    "df_train_all.head()"
   ]
  },
  {
   "cell_type": "code",
   "execution_count": 34,
   "metadata": {},
   "outputs": [
    {
     "data": {
      "text/plain": [
       "array([[<matplotlib.axes._subplots.AxesSubplot object at 0x000001ACA1A90B00>,\n",
       "        <matplotlib.axes._subplots.AxesSubplot object at 0x000001ACA36A61D0>,\n",
       "        <matplotlib.axes._subplots.AxesSubplot object at 0x000001ACA36E6630>,\n",
       "        <matplotlib.axes._subplots.AxesSubplot object at 0x000001ACA370EBA8>],\n",
       "       [<matplotlib.axes._subplots.AxesSubplot object at 0x000001ACA337B160>,\n",
       "        <matplotlib.axes._subplots.AxesSubplot object at 0x000001ACA33A06D8>,\n",
       "        <matplotlib.axes._subplots.AxesSubplot object at 0x000001ACA33C5C50>,\n",
       "        <matplotlib.axes._subplots.AxesSubplot object at 0x000001ACA33F1240>],\n",
       "       [<matplotlib.axes._subplots.AxesSubplot object at 0x000001ACA33F1278>,\n",
       "        <matplotlib.axes._subplots.AxesSubplot object at 0x000001ACA343ACF8>,\n",
       "        <matplotlib.axes._subplots.AxesSubplot object at 0x000001ACA34692B0>,\n",
       "        <matplotlib.axes._subplots.AxesSubplot object at 0x000001ACA348D828>],\n",
       "       [<matplotlib.axes._subplots.AxesSubplot object at 0x000001ACA34B2DA0>,\n",
       "        <matplotlib.axes._subplots.AxesSubplot object at 0x000001ACA34E0358>,\n",
       "        <matplotlib.axes._subplots.AxesSubplot object at 0x000001ACA35058D0>,\n",
       "        <matplotlib.axes._subplots.AxesSubplot object at 0x000001ACA3527E48>]],\n",
       "      dtype=object)"
      ]
     },
     "execution_count": 34,
     "metadata": {},
     "output_type": "execute_result"
    },
    {
     "data": {
      "image/png": "[encoded data removed]",
      "text/plain": [
       "<Figure size 720x720 with 16 Axes>"
      ]
     },
     "metadata": {
      "needs_background": "light"
     },
     "output_type": "display_data"
    }
   ],
   "source": [
    "## Looking at the various variables in the raw data\n",
    "# Look at the summary to see if there are missing values or NAN.. we know here there aren't any\n",
    "# Lets look at the histogram and boxplot!\n",
    "\n",
    "# Histogram\n",
    "df_train_values.hist(figsize=(10,10))\n",
    "# Variable oldpeak seems to be skewed.\n",
    "# chest_pain has an increasing trend, bunch of other parameters have negative trend"
   ]
  },
  {
   "cell_type": "code",
   "execution_count": 33,
   "metadata": {},
   "outputs": [],
   "source": [
    "# Scatter plot\n",
    "# plotting.scatter_matrix(df_train_values[['slope_of_peak_exercise_st_segment','thal','resting_blood_pressure','chest_pain_type','num_major_vessels','fasting_blood_sugar_gt_120_mg_per_dl','resting_ekg_results','serum_cholesterol_mg_per_dl','oldpeak_eq_st_depression','sex','age','max_heart_rate_achieved','exercise_induced_angina']],figsize=(10,10))"
   ]
  },
  {
   "cell_type": "code",
   "execution_count": 53,
   "metadata": {},
   "outputs": [
    {
     "data": {
      "text/plain": [
       "<seaborn.axisgrid.FacetGrid at 0x1aca5699668>"
      ]
     },
     "execution_count": 53,
     "metadata": {},
     "output_type": "execute_result"
    },
    {
     "data": {
      "image/png": "[encoded data removed]",
      "text/plain": [
       "<Figure size 201.6x288 with 1 Axes>"
      ]
     },
     "metadata": {
      "needs_background": "light"
     },
     "output_type": "display_data"
    },
    {
     "data": {
      "image/png": "[encoded data removed]",
      "text/plain": [
       "<Figure size 201.6x288 with 1 Axes>"
      ]
     },
     "metadata": {
      "needs_background": "light"
     },
     "output_type": "display_data"
    },
    {
     "data": {
      "image/png": "[encoded data removed]",
      "text/plain": [
       "<Figure size 201.6x288 with 1 Axes>"
      ]
     },
     "metadata": {
      "needs_background": "light"
     },
     "output_type": "display_data"
    },
    {
     "data": {
      "image/png": "[encoded data removed]",
      "text/plain": [
       "<Figure size 201.6x288 with 1 Axes>"
      ]
     },
     "metadata": {
      "needs_background": "light"
     },
     "output_type": "display_data"
    },
    {
     "data": {
      "image/png": "[encoded data removed]",
      "text/plain": [
       "<Figure size 201.6x288 with 1 Axes>"
      ]
     },
     "metadata": {
      "needs_background": "light"
     },
     "output_type": "display_data"
    },
    {
     "data": {
      "image/png": "[encoded data removed]",
      "text/plain": [
       "<Figure size 201.6x288 with 1 Axes>"
      ]
     },
     "metadata": {
      "needs_background": "light"
     },
     "output_type": "display_data"
    },
    {
     "data": {
      "image/png": "[encoded data removed]",
      "text/plain": [
       "<Figure size 201.6x288 with 1 Axes>"
      ]
     },
     "metadata": {
      "needs_background": "light"
     },
     "output_type": "display_data"
    },
    {
     "data": {
      "image/png": "[encoded data removed]",
      "text/plain": [
       "<Figure size 201.6x288 with 1 Axes>"
      ]
     },
     "metadata": {
      "needs_background": "light"
     },
     "output_type": "display_data"
    },
    {
     "data": {
      "image/png": "[encoded data removed]",
      "text/plain": [
       "<Figure size 201.6x288 with 1 Axes>"
      ]
     },
     "metadata": {
      "needs_background": "light"
     },
     "output_type": "display_data"
    },
    {
     "data": {
      "image/png": "[encoded data removed]",
      "text/plain": [
       "<Figure size 201.6x288 with 1 Axes>"
      ]
     },
     "metadata": {
      "needs_background": "light"
     },
     "output_type": "display_data"
    },
    {
     "data": {
      "image/png": "[encoded data removed]",
      "text/plain": [
       "<Figure size 201.6x288 with 1 Axes>"
      ]
     },
     "metadata": {
      "needs_background": "light"
     },
     "output_type": "display_data"
    },
    {
     "data": {
      "image/png": "[encoded data removed]",
      "text/plain": [
       "<Figure size 201.6x288 with 1 Axes>"
      ]
     },
     "metadata": {
      "needs_background": "light"
     },
     "output_type": "display_data"
    },
    {
     "data": {
      "image/png": "[encoded data removed]",
      "text/plain": [
       "<Figure size 201.6x288 with 1 Axes>"
      ]
     },
     "metadata": {
      "needs_background": "light"
     },
     "output_type": "display_data"
    }
   ],
   "source": [
    "# Boxplot\n",
    "sns.catplot(x=\"heart_disease_present\", y=\"sex\",data=df_train_all,kind=\"box\",height=4, aspect=.7)\n",
    "sns.catplot(x=\"heart_disease_present\", y=\"chest_pain_type\",data=df_train_all,kind=\"box\",height=4, aspect=.7)\n",
    "sns.catplot(x=\"heart_disease_present\", y=\"thal\",data=df_train_all,kind=\"box\",height=4, aspect=.7)\n",
    "sns.catplot(x=\"heart_disease_present\", y=\"slope_of_peak_exercise_st_segment\",data=df_train_all,kind=\"box\",height=4, aspect=.7)\n",
    "sns.catplot(x=\"heart_disease_present\", y=\"resting_blood_pressure\",data=df_train_all,kind=\"box\",height=4, aspect=.7)\n",
    "sns.catplot(x=\"heart_disease_present\", y=\"num_major_vessels\",data=df_train_all,kind=\"box\",height=4, aspect=.7)\n",
    "sns.catplot(x=\"heart_disease_present\", y=\"fasting_blood_sugar_gt_120_mg_per_dl\",data=df_train_all,kind=\"box\",height=4, aspect=.7)\n",
    "sns.catplot(x=\"heart_disease_present\", y=\"resting_ekg_results\",data=df_train_all,kind=\"box\",height=4, aspect=.7)\n",
    "sns.catplot(x=\"heart_disease_present\", y=\"serum_cholesterol_mg_per_dl\",data=df_train_all,kind=\"box\",height=4, aspect=.7)\n",
    "sns.catplot(x=\"heart_disease_present\", y=\"oldpeak_eq_st_depression\",data=df_train_all,kind=\"box\",height=4, aspect=.7)\n",
    "sns.catplot(x=\"heart_disease_present\", y=\"age\",data=df_train_all,kind=\"box\",height=4, aspect=.7)\n",
    "sns.catplot(x=\"heart_disease_present\", y=\"max_heart_rate_achieved\",data=df_train_all,kind=\"box\",height=4, aspect=.7)\n",
    "sns.catplot(x=\"heart_disease_present\", y=\"exercise_induced_angina\",data=df_train_all,kind=\"box\",height=4, aspect=.7)\n",
    "# Looking at the boxplot it seems sex, chest_pain_type, thal, num_major_vessels, serum_cholestrol_mg_per_dl,\n",
    "# oldpeak_eq_st_depression, max_heart_rate_achieved, exercise_induced_angina are the relevant modeling variables \n",
    "# that could be a cause of heart_disease_present"
   ]
  },
  {
   "cell_type": "code",
   "execution_count": 65,
   "metadata": {},
   "outputs": [
    {
     "data": {
      "text/html": [
       "<div>\n",
       "<style scoped>\n",
       "    .dataframe tbody tr th:only-of-type {\n",
       "        vertical-align: middle;\n",
       "    }\n",
       "\n",
       "    .dataframe tbody tr th {\n",
       "        vertical-align: top;\n",
       "    }\n",
       "\n",
       "    .dataframe thead th {\n",
       "        text-align: right;\n",
       "    }\n",
       "</style>\n",
       "<table border=\"1\" class=\"dataframe\">\n",
       "  <thead>\n",
       "    <tr style=\"text-align: right;\">\n",
       "      <th></th>\n",
       "      <th>thal</th>\n",
       "      <th>chest_pain_type</th>\n",
       "      <th>num_major_vessels</th>\n",
       "      <th>serum_cholesterol_mg_per_dl</th>\n",
       "      <th>oldpeak_eq_st_depression</th>\n",
       "      <th>sex</th>\n",
       "      <th>max_heart_rate_achieved</th>\n",
       "      <th>exercise_induced_angina</th>\n",
       "      <th>heart_disease_present</th>\n",
       "    </tr>\n",
       "    <tr>\n",
       "      <th>patient_id</th>\n",
       "      <th></th>\n",
       "      <th></th>\n",
       "      <th></th>\n",
       "      <th></th>\n",
       "      <th></th>\n",
       "      <th></th>\n",
       "      <th></th>\n",
       "      <th></th>\n",
       "      <th></th>\n",
       "    </tr>\n",
       "  </thead>\n",
       "  <tbody>\n",
       "    <tr>\n",
       "      <th>0z64un</th>\n",
       "      <td>0</td>\n",
       "      <td>2</td>\n",
       "      <td>0</td>\n",
       "      <td>308</td>\n",
       "      <td>0.0</td>\n",
       "      <td>1</td>\n",
       "      <td>170</td>\n",
       "      <td>0</td>\n",
       "      <td>0</td>\n",
       "    </tr>\n",
       "    <tr>\n",
       "      <th>ryoo3j</th>\n",
       "      <td>0</td>\n",
       "      <td>3</td>\n",
       "      <td>0</td>\n",
       "      <td>214</td>\n",
       "      <td>1.6</td>\n",
       "      <td>0</td>\n",
       "      <td>158</td>\n",
       "      <td>0</td>\n",
       "      <td>0</td>\n",
       "    </tr>\n",
       "    <tr>\n",
       "      <th>yt1s1x</th>\n",
       "      <td>0</td>\n",
       "      <td>4</td>\n",
       "      <td>3</td>\n",
       "      <td>304</td>\n",
       "      <td>0.0</td>\n",
       "      <td>1</td>\n",
       "      <td>162</td>\n",
       "      <td>1</td>\n",
       "      <td>1</td>\n",
       "    </tr>\n",
       "    <tr>\n",
       "      <th>l2xjde</th>\n",
       "      <td>1</td>\n",
       "      <td>4</td>\n",
       "      <td>0</td>\n",
       "      <td>223</td>\n",
       "      <td>0.0</td>\n",
       "      <td>1</td>\n",
       "      <td>181</td>\n",
       "      <td>0</td>\n",
       "      <td>1</td>\n",
       "    </tr>\n",
       "    <tr>\n",
       "      <th>oyt4ek</th>\n",
       "      <td>1</td>\n",
       "      <td>1</td>\n",
       "      <td>0</td>\n",
       "      <td>270</td>\n",
       "      <td>4.2</td>\n",
       "      <td>1</td>\n",
       "      <td>145</td>\n",
       "      <td>0</td>\n",
       "      <td>0</td>\n",
       "    </tr>\n",
       "  </tbody>\n",
       "</table>\n",
       "</div>"
      ],
      "text/plain": [
       "            thal  chest_pain_type  num_major_vessels  \\\n",
       "patient_id                                             \n",
       "0z64un         0                2                  0   \n",
       "ryoo3j         0                3                  0   \n",
       "yt1s1x         0                4                  3   \n",
       "l2xjde         1                4                  0   \n",
       "oyt4ek         1                1                  0   \n",
       "\n",
       "            serum_cholesterol_mg_per_dl  oldpeak_eq_st_depression  sex  \\\n",
       "patient_id                                                               \n",
       "0z64un                              308                       0.0    1   \n",
       "ryoo3j                              214                       1.6    0   \n",
       "yt1s1x                              304                       0.0    1   \n",
       "l2xjde                              223                       0.0    1   \n",
       "oyt4ek                              270                       4.2    1   \n",
       "\n",
       "            max_heart_rate_achieved  exercise_induced_angina  \\\n",
       "patient_id                                                     \n",
       "0z64un                          170                        0   \n",
       "ryoo3j                          158                        0   \n",
       "yt1s1x                          162                        1   \n",
       "l2xjde                          181                        0   \n",
       "oyt4ek                          145                        0   \n",
       "\n",
       "            heart_disease_present  \n",
       "patient_id                         \n",
       "0z64un                          0  \n",
       "ryoo3j                          0  \n",
       "yt1s1x                          1  \n",
       "l2xjde                          1  \n",
       "oyt4ek                          0  "
      ]
     },
     "execution_count": 65,
     "metadata": {},
     "output_type": "execute_result"
    }
   ],
   "source": [
    "# Looking at the boxplot it seems sex, chest_pain_type, thal, num_major_vessels, serum_cholestrol_mg_per_dl,\n",
    "# oldpeak_eq_st_depression, max_heart_rate_achieved, exercise_induced_angina are the relevant modeling variables \n",
    "# that could be a cause of heart_disease_present.\n",
    "\n",
    "# Creating new dataframe based on the above columns \n",
    "df_train_model=df_train_all\n",
    "df_train_model=df_train_model.drop([\"slope_of_peak_exercise_st_segment\",\"resting_blood_pressure\",\"fasting_blood_sugar_gt_120_mg_per_dl\",\"resting_ekg_results\",\"age\"], axis=1)\n",
    "df_train_model.head()"
   ]
  },
  {
   "cell_type": "code",
   "execution_count": null,
   "metadata": {},
   "outputs": [],
   "source": [
    "## Coding for z-score\n",
    "#theta= np.ones((1,len(df_train_values.columns)-1), dtype=int) # Gives the length   \n",
    "#w_transp= np.transpose(w)\n",
    "#w_transp=np.insert(w_transp,0,0, axis=0)\n",
    "#print(w_transp)\n",
    "#b=1\n",
    "#train_values=df_train_values.values\n",
    "# print(train_values)\n",
    "\n",
    "\n",
    "## for loop\n",
    "##z= np.dot(w_transp,train_values)+b\n",
    "#for count in len(df_train_values.index) \n",
    "# for index, row in df_train_values.iterrows()\n",
    "  # +b, axis=0 \n",
    "      \n",
    " #z[count]=     \n",
    "# print(df_train_values.loc[1]) # dataframe.loc gets that row\n",
    "# z=np.transpose(w)*df_train_values[0]\n",
    "# print(df_train_values.chest_pain_type)"
   ]
  },
  {
   "cell_type": "code",
   "execution_count": 164,
   "metadata": {},
   "outputs": [],
   "source": [
    "## Rearranging the data\n",
    "X = df_train_model.iloc[:, :-1] # X is dataframe here\n",
    "X_all= df_train_all.iloc[:, :-1]\n",
    "# y = target values, last column of the data frame\n",
    "y = df_train_model.iloc[:, -1]\n",
    "y_all = df_train_all.iloc[:, -1]\n",
    "\n",
    "X = np.c_[np.ones((X.shape[0], 1)), X] # Changes the datatype of X from Dataframe to numpy array\n",
    "X=np.delete(X,0,1) #Done to get rid of index which occupied the first column\n",
    "y = y[:, np.newaxis]\n",
    "X_all = np.c_[np.ones((X_all.shape[0], 1)), X_all]\n",
    "X_all=np.delete(X_all,0,1) #Done to get rid of index which occupied the first column\n",
    "y_all = y_all[:, np.newaxis]\n",
    "#print(X)\n",
    "\n",
    "theta = np.zeros((X.shape[1], 1))\n",
    "theta_all = np.zeros((X_all.shape[1], 1))\n",
    "#print(theta_all)"
   ]
  },
  {
   "cell_type": "code",
   "execution_count": 165,
   "metadata": {},
   "outputs": [],
   "source": [
    "## Some functions to define the cost\n",
    "\n",
    "def sigmoid(x):\n",
    "    # Activation function used to map any real value between 0 and 1\n",
    "    return 1 / (1 + np.exp(-x))\n",
    "\n",
    "def net_input(theta, x):\n",
    "    # Computes the weighted sum of inputs\n",
    "    return np.dot(x, theta)\n",
    "\n",
    "def probability(theta, x):\n",
    "    # Returns the probability after passing through sigmoid\n",
    "    return sigmoid(net_input(theta, x))\n",
    "\n",
    "## Defining cost and gradient function \n",
    "\n",
    "def cost_function(theta, x, y):\n",
    "    # Computes the cost function for all the training samples\n",
    "    m = x.shape[0]\n",
    "    total_cost = -(1 / m) * np.sum(\n",
    "        y * np.log(probability(theta, x)) + (1 - y) * np.log(\n",
    "            1 - probability(theta, x)))\n",
    "    return total_cost\n",
    "\n",
    "def gradient(theta, x, y):\n",
    "    # Computes the gradient of the cost function at the point theta\n",
    "    m = x.shape[0]\n",
    "    return (1 / m) * np.dot(x.T, sigmoid(net_input(theta,   x)) - y)\n",
    "\n",
    "def fit(x, y, theta):\n",
    "    opt_weights = scipy.optimize.fmin_tnc(func=cost_function, x0=theta,\n",
    "                  fprime=gradient,args=(x, y.flatten()))\n",
    "    return opt_weights[0]\n",
    "\n"
   ]
  },
  {
   "cell_type": "code",
   "execution_count": 166,
   "metadata": {},
   "outputs": [
    {
     "name": "stdout",
     "output_type": "stream",
     "text": [
      "[ 0.37598721  1.05091498  0.00261387  0.56960318  1.02670474 -0.11912767\n",
      "  0.2393923   0.00345642  0.50394089  1.47976649 -0.04567686 -0.02976833\n",
      "  1.00971717]\n"
     ]
    }
   ],
   "source": [
    "## Calculating the model coeffs\n",
    "parameters = fit(X, y, theta)\n",
    "parameters_all = fit(X_all, y_all, theta_all)\n",
    "print(parameters_all)"
   ]
  },
  {
   "cell_type": "code",
   "execution_count": 168,
   "metadata": {},
   "outputs": [
    {
     "name": "stdout",
     "output_type": "stream",
     "text": [
      "83.88888888888889\n"
     ]
    }
   ],
   "source": [
    "# Calculating accuracy of the model\n",
    "def predict(x):\n",
    "    theta = parameters[:, np.newaxis]\n",
    "    return probability(theta, x)\n",
    "def accuracy(x, actual_classes, probab_threshold=0.5):\n",
    "    predicted_classes = (predict(x) >= \n",
    "                         probab_threshold).astype(int)\n",
    "    predicted_classes = predicted_classes.flatten()\n",
    "    accuracy = np.mean(predicted_classes == actual_classes)\n",
    "    return accuracy * 100\n",
    "\n",
    "def predict_all(x):\n",
    "    theta_all = parameters_all[:, np.newaxis]\n",
    "    return probability(theta_all, x)\n",
    "def accuracy_all(x, actual_classes, probab_threshold=0.5):\n",
    "    predicted_classes = (predict_all(x) >= \n",
    "                         probab_threshold).astype(int)\n",
    "    predicted_classes = predicted_classes.flatten()\n",
    "    accuracy_all = np.mean(predicted_classes == actual_classes)\n",
    "    return accuracy_all * 100\n",
    "\n",
    "print(accuracy(X, y.flatten()))\n",
    "#print(accuracy_all(X_all, y_all.flatten())) # All was 2.22% better than the Model"
   ]
  },
  {
   "cell_type": "code",
   "execution_count": 276,
   "metadata": {},
   "outputs": [
    {
     "name": "stdout",
     "output_type": "stream",
     "text": [
      "[[0.06866521]\n",
      " [0.06516971]\n",
      " [0.9338662 ]\n",
      " [0.12181302]\n",
      " [0.98684376]\n",
      " [0.03699778]\n",
      " [0.23571716]\n",
      " [0.76895297]\n",
      " [0.24021496]\n",
      " [0.18267763]\n",
      " [0.5068788 ]\n",
      " [0.33288312]\n",
      " [0.27374703]\n",
      " [0.94988054]\n",
      " [0.19916227]\n",
      " [0.05886339]\n",
      " [0.01643775]\n",
      " [0.16072   ]\n",
      " [0.8685104 ]\n",
      " [0.07196629]\n",
      " [0.93208975]\n",
      " [0.33989   ]\n",
      " [0.16675854]\n",
      " [0.00190541]\n",
      " [0.1671712 ]\n",
      " [0.9671076 ]\n",
      " [0.12458427]\n",
      " [0.1247756 ]\n",
      " [0.57546693]\n",
      " [0.02734464]\n",
      " [0.80575436]\n",
      " [0.12911817]\n",
      " [0.81637305]\n",
      " [0.61495066]\n",
      " [0.13215767]\n",
      " [0.04044896]\n",
      " [0.36694968]\n",
      " [0.4993294 ]\n",
      " [0.05096787]\n",
      " [0.21727005]\n",
      " [0.9064098 ]\n",
      " [0.02188726]\n",
      " [0.8704487 ]\n",
      " [0.05259747]\n",
      " [0.85741246]\n",
      " [0.2037973 ]\n",
      " [0.05309551]\n",
      " [0.12432446]\n",
      " [0.423319  ]\n",
      " [0.81001675]\n",
      " [0.9565199 ]\n",
      " [0.05711411]\n",
      " [0.9925862 ]\n",
      " [0.0455252 ]\n",
      " [0.09187977]\n",
      " [0.03458377]\n",
      " [0.96462995]\n",
      " [0.35187966]\n",
      " [0.29936522]\n",
      " [0.7117005 ]\n",
      " [0.12879156]\n",
      " [0.95067877]\n",
      " [0.33192977]\n",
      " [0.99364686]\n",
      " [0.06969368]\n",
      " [0.9846139 ]\n",
      " [0.8645726 ]\n",
      " [0.2666545 ]\n",
      " [0.33860803]\n",
      " [0.96752566]\n",
      " [0.06766012]\n",
      " [0.9903252 ]\n",
      " [0.9869185 ]\n",
      " [0.97253597]\n",
      " [0.92678285]\n",
      " [0.9774201 ]\n",
      " [0.80798733]\n",
      " [0.96058214]\n",
      " [0.5402592 ]\n",
      " [0.6576294 ]\n",
      " [0.1730967 ]\n",
      " [0.08930179]\n",
      " [0.88328815]\n",
      " [0.8062227 ]\n",
      " [0.15923621]\n",
      " [0.01483577]\n",
      " [0.9030649 ]\n",
      " [0.60459465]\n",
      " [0.2877352 ]\n",
      " [0.28524408]]\n"
     ]
    }
   ],
   "source": [
    "## Applying the developed model to the test data!\n",
    "\n",
    "df_test_values= pd.read_csv(r'G:\\My Drive\\Graduate life at UA\\Other\\DataDriven\\HeartDisease\\data\\test_values.csv')\n",
    "df_test_values.thal=(thal== 'reversible_defect').astype(int)-(thal== 'fixed_defect').astype(int) # This takes care of what I would do in the above 3 lines in MATLAB\n",
    "df_test_values.head()\n",
    "\n",
    "X_test = df_test_values.iloc[:,:] # X_test is Dataframe\n",
    "X_test = np.c_[np.ones((X_test.shape[0], 1)), X_test] # Changes the datatype of X_test from Dataframe to numpy array\n",
    "\n",
    "X_test=np.delete(X_test,0,1) #Done to get rid of index which occupied the first column\n",
    "X_test=np.delete(X_test,0,1)\n",
    "# print(X_test)\n",
    "parameters_all_array=np.c_[parameters_all] #np.ones((parameters_all.shape[0], 1)),\n",
    "# print(parameters_all_array)\n",
    "heart_disease_present_value= np.dot(X_test,parameters_all_array)\n",
    "#print(heart_disease_present_value)\n",
    "heart_disease_present_value=np.array(heart_disease_present_value,dtype=np.float32)\n",
    "#print(heart_disease_present_value)\n",
    "heart_disease_present_value= sigmoid(heart_disease_present_value)\n",
    "#print(heart_disease_present_value)\n",
    "\n",
    "## Converting data to binary\n",
    "#heart_disease_present_val=np.ones((heart_disease_present_value.shape[0], 1)) # Defining an array of ones\n",
    "#count=0\n",
    "#for value in heart_disease_present_value:\n",
    "    #print(count)\n",
    "#    if value>0.5:\n",
    "#        heart_disease_present_val[count]=1\n",
    "#    else:\n",
    "#        heart_disease_present_val[count]=0\n",
    "#    count=count+1\n",
    "        \n",
    "print(heart_disease_present_value)\n",
    "\n",
    "## Converting into final output dataframe\n",
    "df_heart =  pd.DataFrame(heart_disease_present_value,columns=['heart_disease_present'])\n",
    "df_heart.head()\n",
    "test_results=pd.concat([df_test_values[\"patient_id\"], df_heart], axis=1)#, col=[])\n",
    "test_results.head()\n",
    "test_results.to_csv(r'G:\\My Drive\\Graduate life at UA\\Other\\DataDriven\\HeartDisease\\output\\test_results.csv', index=False)\n"
   ]
  },
  {
   "cell_type": "code",
   "execution_count": null,
   "metadata": {},
   "outputs": [],
   "source": []
  }
 ],
 "metadata": {
  "kernelspec": {
   "display_name": "Python 3",
   "language": "python",
   "name": "python3"
  },
  "language_info": {
   "codemirror_mode": {
    "name": "ipython",
    "version": 3
   },
   "file_extension": ".py",
   "mimetype": "text/x-python",
   "name": "python",
   "nbconvert_exporter": "python",
   "pygments_lexer": "ipython3",
   "version": "3.7.1"
  }
 },
 "nbformat": 4,
 "nbformat_minor": 2
}
